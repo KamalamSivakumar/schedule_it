{
  "nbformat": 4,
  "nbformat_minor": 0,
  "metadata": {
    "colab": {
      "provenance": [],
      "gpuType": "T4"
    },
    "kernelspec": {
      "name": "python3",
      "display_name": "Python 3"
    },
    "language_info": {
      "name": "python"
    },
    "accelerator": "GPU"
  },
  "cells": [
    {
      "cell_type": "markdown",
      "source": [
        "## Importing necessary packages."
      ],
      "metadata": {
        "id": "A20PkWPcL75v"
      }
    },
    {
      "cell_type": "code",
      "source": [
        "import numpy as np\n",
        "import random\n",
        "import matplotlib.pyplot as plt\n",
        "import copy\n",
        "from keras.models import Sequential\n",
        "from keras.layers import Dense, Activation, InputLayer"
      ],
      "metadata": {
        "id": "ZJvhCKA_EHET"
      },
      "execution_count": 2,
      "outputs": []
    },
    {
      "cell_type": "markdown",
      "source": [
        "## Objective:\n",
        "####To perform task scheduling based on CPU and Memory allocation in order maximise resource utilisation using Reinforcement Learning methods, such as Q-Learning, Double Q-Learning and Deep Q-Network."
      ],
      "metadata": {
        "id": "v6yd_k0AL7UA"
      }
    },
    {
      "cell_type": "markdown",
      "source": [
        "#### Environment Creation\n",
        "\n",
        "States: No.of tasks to be scheduled (m)\n",
        "\n",
        "Actions: Selecting a task, Not selecting a task (0/1)\n",
        "\n",
        "Reward/Penalty based on the \"Resources\" ([CPU, Memory])\n",
        "\n",
        "Reward Calculation:\n",
        "\n",
        "Reward = sum(CPU, Memory)\n",
        "\n",
        "Penalty = -sum(CPU, Memory)/10\n",
        "\n",
        "Penalty if:\n",
        "1. sum(CPU, Memory) > limit\n",
        "2. Selecting an already scheduled task.\n"
      ],
      "metadata": {
        "id": "8CWyYzIpMx4t"
      }
    },
    {
      "cell_type": "markdown",
      "source": [
        "For the purpose of analysing the output with ease the no.of job samples is 1, but the inputs can be altered to handle input dynamically."
      ],
      "metadata": {
        "id": "rInwFEFx4t-Q"
      }
    },
    {
      "cell_type": "code",
      "source": [
        "class env:\n",
        "  rand_seed = 10\n",
        "\n",
        "  def __init__(self, resources, num_tasks):\n",
        "    np.random.seed(self.rand_seed)\n",
        "    self.state = np.zeros((num_tasks, 1), dtype=int)\n",
        "    self.limit = 0\n",
        "\n",
        "    for lim in resources:\n",
        "      self.state = np.append(self.state, np.random.randint(lim, size=(num_tasks, 1)), axis=1) #no.of tasks to be sechduled\n",
        "      self.limit += lim #total reource limiit is sum of resources\n",
        "\n",
        "    self.reward_matrix = np.zeros((num_tasks, num_tasks+1))\n",
        "    self.reward = 0\n",
        "\n",
        "    self.num_tasks_ = num_tasks\n",
        "    self.resources_ = resources\n",
        "\n",
        "    #Defining Actions\n",
        "    self.action_select, self.action_pass = 1, 0\n",
        "    self.state_actions = {}\n",
        "\n",
        "    for i in range(num_tasks):\n",
        "      self.state_actions.__setitem__(i, [self.action_select, self.action_pass])\n",
        "\n",
        "  def get_initial_state(self):\n",
        "    st = np.zeros((self.num_tasks_, 1), dtype=int)\n",
        "\n",
        "    for lim in self.resources_:\n",
        "      st = np.append(st, np.random.randint(lim, size=(self.num_tasks_, 1)), axis=1)\n",
        "\n",
        "    self.state = st\n",
        "    self.reward = 0\n",
        "    self.reward_matrix = np.zeros((self.num_tasks_, self.num_tasks_+1))\n",
        "    return self.state\n",
        "\n",
        "  def get_sum(self,x):\n",
        "    if x[0] == 1:\n",
        "      return sum(x)-1\n",
        "    else:\n",
        "      return 0\n",
        "\n",
        "  def get_next_step(self, actionIdx):\n",
        "   self.reward = 0\n",
        "   self.done = False\n",
        "\n",
        "   if self.state[actionIdx][0] == 1:\n",
        "    sum_res = np.sum(self.state[actionIdx], axis=0)\n",
        "    sum_res -= 1\n",
        "    self.reward = -sum_res/10 #penalty for choosing already chosen task\n",
        "    return self.state, self.reward, self.done\n",
        "\n",
        "   else:\n",
        "    self.state[actionIdx][0] = 1\n",
        "\n",
        "   total_reward = sum(np.apply_along_axis(self.get_sum,1,self.state))\n",
        "   sum_res = np.sum(self.state[actionIdx], axis=0)\n",
        "   sum_res -= 1\n",
        "\n",
        "   if total_reward < self.limit:\n",
        "    self.reward = sum_res\n",
        "   else:\n",
        "    self.reward = -sum_res/10\n",
        "    self.done = True #since memory limit exceeded\n",
        "\n",
        "   return self.state, self.reward, self.done"
      ],
      "metadata": {
        "id": "XpbW47bsL3tH"
      },
      "execution_count": 3,
      "outputs": []
    },
    {
      "cell_type": "code",
      "source": [
        "resources = [80, 80] #CPU and Memory limits\n",
        "num_tasks = 6\n",
        "mdp_environment = env(resources, num_tasks)"
      ],
      "metadata": {
        "id": "vr6oaxX-RqfF"
      },
      "execution_count": 28,
      "outputs": []
    },
    {
      "cell_type": "markdown",
      "source": [
        "## Q-Learning"
      ],
      "metadata": {
        "id": "VWrbo9XVSAPn"
      }
    },
    {
      "cell_type": "code",
      "source": [
        "def QLearn(environment, num_tasks, gamma, round_dec=2, eps=0.2): #Using Greedy-Epsilon Method\n",
        "\n",
        "  total_reward = 0\n",
        "  Q = [[0 for i in range(num_tasks+1)] for j in range(num_tasks)]\n",
        "  s = environment.get_initial_state()\n",
        "  scheduled = False\n",
        "  r_plt = []\n",
        "\n",
        "  while not scheduled:\n",
        "    prevQ = copy.deepcopy(Q) #To check for convergence of Q-matrix\n",
        "\n",
        "    if np.random.random() < eps:\n",
        "      print(\"Randomly selected\")\n",
        "      a = np.random.randint(0, num_tasks)\n",
        "      print(a)\n",
        "    else:\n",
        "      print(\"Greedily selected\")\n",
        "      Q_temp = np.array(Q)\n",
        "      idx = np.unravel_index(Q_temp.argmax(), Q_temp.shape)\n",
        "      idx = list(idx)\n",
        "      a = idx[0]\n",
        "      print(a)\n",
        "\n",
        "    state, R, done = environment.get_next_step(a)\n",
        "    total_reward += R\n",
        "    r_plt.append(total_reward)\n",
        "\n",
        "    print(state, R, done, total_reward)\n",
        "\n",
        "    for i in range(len(Q)):\n",
        "      for j in range(len(Q[0])):\n",
        "        if done == True: #Scheduling is done\n",
        "          break\n",
        "        Q[i-1][j-1] = round(R + gamma*max(Q[j-1]), round_dec)\n",
        "\n",
        "    if prevQ == Q:\n",
        "      return Q, total_reward, r_plt"
      ],
      "metadata": {
        "id": "qeXbv2GJR9p8"
      },
      "execution_count": 14,
      "outputs": []
    },
    {
      "cell_type": "code",
      "source": [
        "Q, rewards, r_plt = QLearn(mdp_environment, num_tasks, 0.8)"
      ],
      "metadata": {
        "colab": {
          "base_uri": "https://localhost:8080/"
        },
        "id": "Pd-XjA-KT-QD",
        "outputId": "78d3a3a8-437b-451c-e7ef-ca606716115f"
      },
      "execution_count": 24,
      "outputs": [
        {
          "output_type": "stream",
          "name": "stdout",
          "text": [
            "Greedily selected\n",
            "0\n",
            "[[ 1 28 13]\n",
            " [ 0 26 77]\n",
            " [ 0  1 25]\n",
            " [ 0  2 61]\n",
            " [ 0 60 40]\n",
            " [ 0 51  6]] 41 False 41\n",
            "Greedily selected\n",
            "4\n",
            "[[ 1 28 13]\n",
            " [ 0 26 77]\n",
            " [ 0  1 25]\n",
            " [ 0  2 61]\n",
            " [ 1 60 40]\n",
            " [ 0 51  6]] 100 False 141\n",
            "Greedily selected\n",
            "4\n",
            "[[ 1 28 13]\n",
            " [ 0 26 77]\n",
            " [ 0  1 25]\n",
            " [ 0  2 61]\n",
            " [ 1 60 40]\n",
            " [ 0 51  6]] -10.0 False 131.0\n",
            "Greedily selected\n",
            "0\n",
            "[[ 1 28 13]\n",
            " [ 0 26 77]\n",
            " [ 0  1 25]\n",
            " [ 0  2 61]\n",
            " [ 1 60 40]\n",
            " [ 0 51  6]] -4.1 False 126.9\n",
            "Greedily selected\n",
            "0\n",
            "[[ 1 28 13]\n",
            " [ 0 26 77]\n",
            " [ 0  1 25]\n",
            " [ 0  2 61]\n",
            " [ 1 60 40]\n",
            " [ 0 51  6]] -4.1 False 122.80000000000001\n",
            "Randomly selected\n",
            "1\n",
            "[[ 1 28 13]\n",
            " [ 1 26 77]\n",
            " [ 0  1 25]\n",
            " [ 0  2 61]\n",
            " [ 1 60 40]\n",
            " [ 0 51  6]] -10.3 True 112.50000000000001\n"
          ]
        }
      ]
    },
    {
      "cell_type": "code",
      "source": [
        "x_plt = []\n",
        "for i in range(len(r_plt)):\n",
        "  x_plt.append(i)\n",
        "plt.plot(x_plt, r_plt)\n",
        "plt.xlabel(\"Iterations\")\n",
        "plt.ylabel(\"Rewards\")"
      ],
      "metadata": {
        "colab": {
          "base_uri": "https://localhost:8080/",
          "height": 466
        },
        "id": "QLr7afDhyTaS",
        "outputId": "5a9a46fd-a643-4c38-ce74-a01706c39df9"
      },
      "execution_count": 25,
      "outputs": [
        {
          "output_type": "execute_result",
          "data": {
            "text/plain": [
              "Text(0, 0.5, 'Rewards')"
            ]
          },
          "metadata": {},
          "execution_count": 25
        },
        {
          "output_type": "display_data",
          "data": {
            "text/plain": [
              "<Figure size 640x480 with 1 Axes>"
            ],
            "image/png": "[encoded data removed]"
          },
          "metadata": {}
        }
      ]
    },
    {
      "cell_type": "markdown",
      "source": [
        "The final reward is 112.5\n",
        "\n",
        "From the graph, there is a sudden pike in the rewards initially, then dropping after a threshold. The model can do better in the exploration-exploitation tradeoff."
      ],
      "metadata": {
        "id": "EbDEV9XhWeIg"
      }
    },
    {
      "cell_type": "markdown",
      "source": [
        "## Double Q-Learning"
      ],
      "metadata": {
        "id": "SXNdLzPQXBNB"
      }
    },
    {
      "cell_type": "code",
      "source": [
        "def DoubleQLearn(environment, num_tasks, gamma, round_dec=2, eps=0.2): #Using greedy epsilon method\n",
        "  r_plt = []\n",
        "  Q_a =  [ [0 for i in range(num_tasks+1)] for j in range(num_tasks)]\n",
        "  Q_b =  [ [0 for i in range(num_tasks+1)] for j in range(num_tasks)]\n",
        "  s = environment.get_initial_state()\n",
        "  scheduled = False\n",
        "  total_reward = 0\n",
        "\n",
        "  Q_table = Q_a + Q_b\n",
        "\n",
        "  while not scheduled:\n",
        "    prevQ = copy.deepcopy(Q_table)\n",
        "\n",
        "    if np.random.random() < eps:\n",
        "      a = np.random.randint(0, num_tasks)\n",
        "      print(\"Randomly selected\")\n",
        "    else:\n",
        "      print(\"Greedily selected\")\n",
        "      Q_temp = np.array(Q_table)\n",
        "      idx = np.unravel_index(Q_temp.argmax(), Q_temp.shape)\n",
        "      idx = list(idx)\n",
        "      a = idx[0]\n",
        "    print(a)\n",
        "    state, R, done = environment.get_next_step(a)\n",
        "    total_reward += R\n",
        "    r_plt.append(total_reward)\n",
        "\n",
        "    print(state, R, done, total_reward)\n",
        "\n",
        "    for i in range(len(Q_a)):\n",
        "      for j in range(len(Q_a[0])):\n",
        "        if done == True:\n",
        "          break\n",
        "\n",
        "        if np.random.rand() < 0.5:\n",
        "          Q_a[i-1][j-1] = round(R + gamma*max(Q_a[j-1]), round_dec)\n",
        "        else:\n",
        "          Q_b[i-1][j-1] = round(R + gamma*max(Q_b[j-1]), round_dec)\n",
        "\n",
        "    if prevQ == Q_table:\n",
        "      return Q_table, total_reward, r_plt"
      ],
      "metadata": {
        "id": "VemkawWrUNzh"
      },
      "execution_count": 29,
      "outputs": []
    },
    {
      "cell_type": "code",
      "source": [
        "Q, rewards, r_plt = DoubleQLearn(mdp_environment, num_tasks, 0.8)"
      ],
      "metadata": {
        "colab": {
          "base_uri": "https://localhost:8080/"
        },
        "id": "-QDOjWJyzfja",
        "outputId": "0e99c0d6-b41f-47db-a672-0d049b21e323"
      },
      "execution_count": 71,
      "outputs": [
        {
          "output_type": "stream",
          "name": "stdout",
          "text": [
            "Randomly selected\n",
            "5\n",
            "[[ 0 18  6]\n",
            " [ 0  1 39]\n",
            " [ 0 41 23]\n",
            " [ 0  0 24]\n",
            " [ 0 44  7]\n",
            " [ 1 56 55]] 111 False 111\n",
            "Greedily selected\n",
            "3\n",
            "[[ 0 18  6]\n",
            " [ 0  1 39]\n",
            " [ 0 41 23]\n",
            " [ 1  0 24]\n",
            " [ 0 44  7]\n",
            " [ 1 56 55]] 24 False 135\n",
            "Greedily selected\n",
            "3\n",
            "[[ 0 18  6]\n",
            " [ 0  1 39]\n",
            " [ 0 41 23]\n",
            " [ 1  0 24]\n",
            " [ 0 44  7]\n",
            " [ 1 56 55]] -2.4 False 132.6\n",
            "Greedily selected\n",
            "3\n",
            "[[ 0 18  6]\n",
            " [ 0  1 39]\n",
            " [ 0 41 23]\n",
            " [ 1  0 24]\n",
            " [ 0 44  7]\n",
            " [ 1 56 55]] -2.4 False 130.2\n",
            "Greedily selected\n",
            "3\n",
            "[[ 0 18  6]\n",
            " [ 0  1 39]\n",
            " [ 0 41 23]\n",
            " [ 1  0 24]\n",
            " [ 0 44  7]\n",
            " [ 1 56 55]] -2.4 False 127.79999999999998\n",
            "Greedily selected\n",
            "0\n",
            "[[ 1 18  6]\n",
            " [ 0  1 39]\n",
            " [ 0 41 23]\n",
            " [ 1  0 24]\n",
            " [ 0 44  7]\n",
            " [ 1 56 55]] 24 False 151.79999999999998\n",
            "Greedily selected\n",
            "0\n",
            "[[ 1 18  6]\n",
            " [ 0  1 39]\n",
            " [ 0 41 23]\n",
            " [ 1  0 24]\n",
            " [ 0 44  7]\n",
            " [ 1 56 55]] -2.4 False 149.39999999999998\n",
            "Greedily selected\n",
            "3\n",
            "[[ 1 18  6]\n",
            " [ 0  1 39]\n",
            " [ 0 41 23]\n",
            " [ 1  0 24]\n",
            " [ 0 44  7]\n",
            " [ 1 56 55]] -2.4 False 146.99999999999997\n",
            "Greedily selected\n",
            "3\n",
            "[[ 1 18  6]\n",
            " [ 0  1 39]\n",
            " [ 0 41 23]\n",
            " [ 1  0 24]\n",
            " [ 0 44  7]\n",
            " [ 1 56 55]] -2.4 False 144.59999999999997\n",
            "Greedily selected\n",
            "3\n",
            "[[ 1 18  6]\n",
            " [ 0  1 39]\n",
            " [ 0 41 23]\n",
            " [ 1  0 24]\n",
            " [ 0 44  7]\n",
            " [ 1 56 55]] -2.4 False 142.19999999999996\n",
            "Randomly selected\n",
            "3\n",
            "[[ 1 18  6]\n",
            " [ 0  1 39]\n",
            " [ 0 41 23]\n",
            " [ 1  0 24]\n",
            " [ 0 44  7]\n",
            " [ 1 56 55]] -2.4 False 139.79999999999995\n",
            "Randomly selected\n",
            "4\n",
            "[[ 1 18  6]\n",
            " [ 0  1 39]\n",
            " [ 0 41 23]\n",
            " [ 1  0 24]\n",
            " [ 1 44  7]\n",
            " [ 1 56 55]] -5.1 True 134.69999999999996\n"
          ]
        }
      ]
    },
    {
      "cell_type": "code",
      "source": [
        "x_plt = []\n",
        "for i in range(len(r_plt)):\n",
        "  x_plt.append(i)\n",
        "plt.plot(x_plt, r_plt)\n",
        "plt.xlabel(\"Iterations\")\n",
        "plt.ylabel(\"Rewards\")"
      ],
      "metadata": {
        "colab": {
          "base_uri": "https://localhost:8080/",
          "height": 466
        },
        "id": "2tBqySzfzoGm",
        "outputId": "06169978-e9dd-4e02-b7ba-c4b53f77341c"
      },
      "execution_count": 72,
      "outputs": [
        {
          "output_type": "execute_result",
          "data": {
            "text/plain": [
              "Text(0, 0.5, 'Rewards')"
            ]
          },
          "metadata": {},
          "execution_count": 72
        },
        {
          "output_type": "display_data",
          "data": {
            "text/plain": [
              "<Figure size 640x480 with 1 Axes>"
            ],
            "image/png": "[encoded data removed]"
          },
          "metadata": {}
        }
      ]
    },
    {
      "cell_type": "markdown",
      "source": [
        "The final reward is 134. 70\n",
        "\n",
        "The same goes with Double Q-Learning as well. But, from the graph, The exploration-exploitation tradeoff is better than the Q-Learning model."
      ],
      "metadata": {
        "id": "RxydWDws08H_"
      }
    },
    {
      "cell_type": "markdown",
      "source": [
        "## Deep Q-Network"
      ],
      "metadata": {
        "id": "wC-WaL5r03bx"
      }
    },
    {
      "cell_type": "code",
      "source": [
        "input_layer_n = num_tasks\n",
        "output_layer_n = num_tasks\n",
        "dense_layer_n = 20"
      ],
      "metadata": {
        "id": "v6Dbwuhv0wqM"
      },
      "execution_count": 73,
      "outputs": []
    },
    {
      "cell_type": "code",
      "source": [
        "dqn_env = env(resources, num_tasks)"
      ],
      "metadata": {
        "id": "OvfU7sco1KLA"
      },
      "execution_count": 74,
      "outputs": []
    },
    {
      "cell_type": "code",
      "source": [
        "model = Sequential()\n",
        "model.add(InputLayer(batch_input_shape=(1,3)))\n",
        "model.add(Dense(dense_layer_n, activation='sigmoid'))\n",
        "model.add(Dense(output_layer_n, activation='linear'))\n",
        "model.compile(loss='mse', optimizer='adam', metrics=['mae'])"
      ],
      "metadata": {
        "id": "8rrF-7081Qz0"
      },
      "execution_count": 75,
      "outputs": []
    },
    {
      "cell_type": "code",
      "source": [
        "#Using epsilon decay\n",
        "num_job_samples = 1\n",
        "y = 0.95\n",
        "eps = 0.5\n",
        "decay_factor = 0.999\n",
        "r_avg_list = []\n",
        "r_plt_dqn = []"
      ],
      "metadata": {
        "id": "vc7Bm7f-1lVv"
      },
      "execution_count": 76,
      "outputs": []
    },
    {
      "cell_type": "code",
      "source": [
        "for i in range(num_job_samples):\n",
        "  s = dqn_env.get_initial_state()\n",
        "  eps *= decay_factor\n",
        "  scheduled = False\n",
        "  r_sum = 0\n",
        "\n",
        "  while not scheduled:\n",
        "    if np.random.random() < eps:\n",
        "      print(\"Randomly selected\")\n",
        "      a = np.random.randint(0, num_tasks)\n",
        "    else:\n",
        "      print(\"Greedily selected\")\n",
        "      temp = model.predict(s)\n",
        "      idx = np.unravel_index(temp.argmax(), temp.shape)\n",
        "      idx = list(idx)\n",
        "      print(temp[idx[0], idx[i]]==temp.max())\n",
        "      a = idx[0]\n",
        "    print(a)\n",
        "\n",
        "    new_s, r, scheduled = dqn_env.get_next_step(a)\n",
        "    print(np.array(new_s), r, scheduled)\n",
        "\n",
        "    target = r+y*np.max(model.predict(np.array(new_s)))\n",
        "    target_vec = model.predict(s)\n",
        "    target_vec[a] = target\n",
        "\n",
        "    model.fit(s, target_vec.reshape(-1, num_tasks), epochs=1, verbose=0)\n",
        "    s = new_s\n",
        "    r_sum += r\n",
        "    r_plt_dqn.append(r_sum)\n",
        "\n",
        "  r_avg_list.append(r_sum/1000)"
      ],
      "metadata": {
        "colab": {
          "base_uri": "https://localhost:8080/"
        },
        "id": "7n-h3QVu154k",
        "outputId": "a970e21e-b43c-4fb7-8167-e68b53ff9dcd"
      },
      "execution_count": 80,
      "outputs": [
        {
          "output_type": "stream",
          "name": "stdout",
          "text": [
            "Randomly selected\n",
            "1\n",
            "[[ 0 12 18]\n",
            " [ 1 65 77]\n",
            " [ 0 31 22]\n",
            " [ 0 57 23]\n",
            " [ 0 36 11]\n",
            " [ 0 27 28]] 142 False\n",
            "1/1 [==============================] - 0s 17ms/step\n",
            "1/1 [==============================] - 0s 22ms/step\n",
            "Randomly selected\n",
            "0\n",
            "[[ 1 12 18]\n",
            " [ 1 65 77]\n",
            " [ 0 31 22]\n",
            " [ 0 57 23]\n",
            " [ 0 36 11]\n",
            " [ 0 27 28]] -3.0 True\n",
            "1/1 [==============================] - 0s 19ms/step\n",
            "1/1 [==============================] - 0s 16ms/step\n"
          ]
        }
      ]
    },
    {
      "cell_type": "code",
      "source": [
        "print(\"Total Rewards: \")\n",
        "print(r_sum)"
      ],
      "metadata": {
        "colab": {
          "base_uri": "https://localhost:8080/"
        },
        "id": "svksbNqF3W0F",
        "outputId": "8712eefa-82ff-46a5-cbdb-9b2890e9dea4"
      },
      "execution_count": 81,
      "outputs": [
        {
          "output_type": "stream",
          "name": "stdout",
          "text": [
            "Total Rewards: \n",
            "139.0\n"
          ]
        }
      ]
    },
    {
      "cell_type": "code",
      "source": [
        "x_plt_dqn = []\n",
        "for i in range(len(r_plt_dqn)):\n",
        "  x_plt_dqn.append(i)\n",
        "plt.plot(x_plt_dqn, r_plt_dqn)\n",
        "plt.xlabel(\"Iterations\")\n",
        "plt.ylabel(\"Rewards\")"
      ],
      "metadata": {
        "colab": {
          "base_uri": "https://localhost:8080/",
          "height": 466
        },
        "id": "Y2sNkCvx3vwr",
        "outputId": "6551410f-f3f4-4845-fab1-c12dcccf04e6"
      },
      "execution_count": 82,
      "outputs": [
        {
          "output_type": "execute_result",
          "data": {
            "text/plain": [
              "Text(0, 0.5, 'Rewards')"
            ]
          },
          "metadata": {},
          "execution_count": 82
        },
        {
          "output_type": "display_data",
          "data": {
            "text/plain": [
              "<Figure size 640x480 with 1 Axes>"
            ],
            "image/png": "[encoded data removed]"
          },
          "metadata": {}
        }
      ]
    },
    {
      "cell_type": "markdown",
      "source": [
        "The final reward is 139.\n",
        "\n",
        "Deep Q-Network achieves a good tradeoff in the exploration-exploitation conundrum, comparing to Q-Learning and Deep Q-Learning. Thus, helping to achieve maximum resource utilisation."
      ],
      "metadata": {
        "id": "tP3LPJF94H_c"
      }
    },
    {
      "cell_type": "markdown",
      "source": [
        "All the above models can be sampled for n no.of times and the average result can be viewed for better understanding."
      ],
      "metadata": {
        "id": "b0jAXNO26wTN"
      }
    }
  ]
}